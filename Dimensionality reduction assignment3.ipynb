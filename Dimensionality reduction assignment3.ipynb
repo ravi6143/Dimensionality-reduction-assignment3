{
 "cells": [
  {
   "cell_type": "markdown",
   "id": "60abd8f9-e134-4eff-8667-11a2d7d840d2",
   "metadata": {},
   "source": [
    "## Question - 1\n",
    "ans - "
   ]
  },
  {
   "cell_type": "markdown",
   "id": "09783ff2-c6e1-4af1-a9f8-0267c7c021bb",
   "metadata": {},
   "source": [
    "# Eigenvalues: \n",
    "Eigenvalues are scalars that represent the magnitude of stretching or compression that occurs when a linear transformation is applied to an eigenvector. In other words, an eigenvalue λ represents how much the eigenvector is scaled when multiplied by a square matrix.\n",
    "\n",
    "# Eigenvectors: \n",
    "Eigenvectors are non-zero vectors that remain in the same direction after a linear transformation. When multiplied by a square matrix, they only change in magnitude, not direction.\n",
    "\n",
    "The eigen-decomposition approach decomposes a square matrix into its constituent eigenvectors and eigenvalues.\n",
    "\n",
    "Mathematically, for a square matrix A, an eigenvector v and its corresponding eigenvalue λ satisfy the equation:\n",
    "\n",
    "Av=λv\n",
    "\n",
    "The eigen-decomposition of a matrix A is given by:\n",
    "\n",
    "A=QΛQ^−1\n",
    " \n",
    "\n",
    "Where:\n",
    "\n",
    "* Q is a matrix whose columns are the eigenvectors of A.\n",
    "\n",
    "* Λ is a diagonal matrix containing the eigenvalues of A.\n",
    "\n",
    "* Q^−1is the inverse of matrix Q.\n",
    "\n",
    "\n"
   ]
  },
  {
   "cell_type": "code",
   "execution_count": null,
   "id": "93629679-2c5b-4591-b7ac-5d477a5de867",
   "metadata": {},
   "outputs": [],
   "source": []
  },
  {
   "cell_type": "code",
   "execution_count": null,
   "id": "40d39b67-b61d-45c3-aadb-a45fc32d477d",
   "metadata": {},
   "outputs": [],
   "source": []
  },
  {
   "cell_type": "code",
   "execution_count": null,
   "id": "0af0ac65-44ea-4650-9e53-5f2c9235fa46",
   "metadata": {},
   "outputs": [],
   "source": []
  },
  {
   "cell_type": "markdown",
   "id": "81ffff60-e017-4eed-85eb-80e08e088e8c",
   "metadata": {},
   "source": [
    "## Question - 2\n",
    "ans - "
   ]
  },
  {
   "cell_type": "markdown",
   "id": "c47d99c7-80a9-42d1-b680-0818b0e3817e",
   "metadata": {},
   "source": [
    "Eigen decomposition is a fundamental concept in linear algebra that involves decomposing a square matrix into a set of eigenvectors and eigenvalues.\n",
    "\n",
    "The significance of eigen decomposition in linear algebra lies in its ability to reveal the fundamental properties of a square matrix and its geometric transformation. Eigen decomposition allows us to understand the behavior of linear transformations, including how they stretch, rotate, or compress space. It also provides insight into the underlying structure of data and systems described by linear equations."
   ]
  },
  {
   "cell_type": "code",
   "execution_count": null,
   "id": "39a78050-7cef-4fa5-a2a9-cbcd706690ab",
   "metadata": {},
   "outputs": [],
   "source": []
  },
  {
   "cell_type": "code",
   "execution_count": null,
   "id": "1d7c7c17-4173-4c27-ba04-c5c2d5f30094",
   "metadata": {},
   "outputs": [],
   "source": []
  },
  {
   "cell_type": "code",
   "execution_count": null,
   "id": "d94d3ffc-c32f-40f4-a4c7-dea196c4b722",
   "metadata": {},
   "outputs": [],
   "source": []
  },
  {
   "cell_type": "markdown",
   "id": "74af3738-1431-41b4-a4e5-bd64afba4f20",
   "metadata": {},
   "source": [
    "## Question - 3\n",
    "ans - "
   ]
  },
  {
   "cell_type": "markdown",
   "id": "a626d3cd-c898-418a-9f9f-e26fdd29551b",
   "metadata": {},
   "source": [
    "For a square matrix to be diagonalizable using the Eigen-Decomposition approach, it must satisfy the following conditions:\n",
    "\n",
    "1. The matrix must be square: Diagonalization is only applicable to square matrices, i.e., matrices with the same number of rows and columns.\n",
    "\n",
    "2. The matrix must have n linearly independent eigenvectors: For an n×n matrix, there must be n linearly independent eigenvectors corresponding to distinct eigenvalues.\n",
    "\n",
    "# Now, let's provide a brief proof to support these conditions:\n",
    "\n",
    "* Square Matrix Requirement:\n",
    "\n",
    "For a matrix A to be diagonalizable, it must have a full set of eigenvectors, which forms the basis of the vector space. If A is not square, i.e., it has different numbers of rows and columns, then the transformation represented by A is not square and does not have a full set of eigenvectors. Therefore, diagonalization is not possible.\n",
    "\n",
    "* Linearly Independent Eigenvectors Requirement:\n",
    "\n",
    "Consider an n×n square matrix A. Suppose A has n linearly independent eigenvectors v1,v2,…,vn corresponding to distinct eigenvalues λ1,λ2,…,λn.\n",
    "\n",
    "Let's construct a matrix Q whose columns are the eigenvectors of A:\n",
    "\n",
    "Q=[v1,v2, … vn]\n",
    "\n",
    "We can represent the diagonal matrix Λ containing the eigenvalues as:\n",
    "\n",
    "Λ=diag(λ1,λ2,…,λn)\n",
    "\n",
    "Now, we aim to show that A=QΛQ^−1.\n",
    "\n",
    "Using the definition of Q and Λ, we have:\n",
    "\n",
    "AQ=[Av1 ,Av2,… Avn]=[λ1v1, λ2v2,… λnvn]=QΛ\n",
    "\n",
    "Multiplying both sides by Q^−1 from the right, we get:\n",
    "\n",
    "AQQ^−1 = QΛQ^−1 ⟹ A=QΛQ^−1\n",
    " \n",
    "\n",
    "This demonstrates that A is diagonalizable using the Eigen-Decomposition approach."
   ]
  },
  {
   "cell_type": "code",
   "execution_count": null,
   "id": "35829ea7-81d7-4a93-8e0d-82ef6a9e9cf7",
   "metadata": {},
   "outputs": [],
   "source": []
  },
  {
   "cell_type": "code",
   "execution_count": null,
   "id": "25a6d2d1-232a-4f91-b8e2-35c7d7e0ffc7",
   "metadata": {},
   "outputs": [],
   "source": []
  },
  {
   "cell_type": "code",
   "execution_count": null,
   "id": "3cf6e270-5c0b-419f-a118-b7374010e2a2",
   "metadata": {},
   "outputs": [],
   "source": []
  },
  {
   "cell_type": "markdown",
   "id": "a48f7ec1-7de9-4f28-9156-5dc9755da901",
   "metadata": {},
   "source": [
    "## Question - 4\n",
    "ans - "
   ]
  },
  {
   "cell_type": "markdown",
   "id": "24a6eda1-7cbe-4960-8671-f10e0c01be76",
   "metadata": {},
   "source": [
    "The spectral theorem is a fundamental result in linear algebra that establishes a connection between the eigenvectors and eigenvalues of a symmetric matrix and its diagonalization. In the context of the Eigen-Decomposition approach, the spectral theorem provides insight into the properties of symmetric matrices and their diagonalizability.\n",
    "\n",
    "# Significance of the Spectral Theorem:\n",
    "\n",
    "* Diagonalizability: The spectral theorem states that every symmetric matrix is diagonalizable. This means that for any symmetric matrix A, it is always possible to find a set of orthogonal eigenvectors and corresponding real eigenvalues that can be used to diagonalize A.\n",
    "\n",
    "* Orthogonality: The eigenvectors corresponding to distinct eigenvalues of a symmetric matrix are orthogonal to each other. This orthogonality property is crucial as it ensures that the eigenvectors form a complete basis for the vector space, facilitating the diagonalization process.\n",
    "\n",
    "# Relation to Diagonalizability:\n",
    "\n",
    "The spectral theorem guarantees the diagonalizability of symmetric matrices, providing a powerful tool for decomposing such matrices into their constituent eigenvectors and eigenvalues. Diagonalization of a symmetric matrix enables us to understand its underlying structure, properties, and behavior, making it a valuable technique in various mathematical and computational applications."
   ]
  },
  {
   "cell_type": "markdown",
   "id": "8db2b467-d269-41ad-9ab6-38354a45f7e1",
   "metadata": {},
   "source": []
  },
  {
   "cell_type": "code",
   "execution_count": null,
   "id": "97939a50-7b05-43de-9f5f-c0726aac62d4",
   "metadata": {},
   "outputs": [],
   "source": []
  },
  {
   "cell_type": "code",
   "execution_count": null,
   "id": "4d5d6ae6-99ec-4204-8f66-73e5d006c786",
   "metadata": {},
   "outputs": [],
   "source": []
  },
  {
   "cell_type": "markdown",
   "id": "39c7e560-12cb-4e5f-ae9a-be4c31d9f9ee",
   "metadata": {},
   "source": [
    "# Question - 5\n",
    "ans - "
   ]
  },
  {
   "cell_type": "markdown",
   "id": "d9dc50a4-56d1-4443-abbd-5de85b9d3bb6",
   "metadata": {},
   "source": [
    "o find the eigenvalues of a matrix, you need to solve the characteristic equation associated with the matrix. Here are the steps to find the eigenvalues:\n",
    "\n",
    "1. Let A be the matrix for which you want to find the eigenvalues.\n",
    "\n",
    "2. Set up the characteristic equation:\n",
    "\n",
    "det(A−λI)=0\n",
    "\n",
    "where λ is the eigenvalue and I is the identity matrix.\n",
    "\n",
    "3. Solve the characteristic equation to find the values of λ. These values are the eigenvalues of the matrix A.\n",
    "\n",
    "Eigenvalues represent the scaling factor by which an eigenvector is stretched or compressed when it is multiplied by the matrix A. In other words, if λ is an eigenvalue of A, then for a corresponding eigenvector v, the operation Av=λv holds true.\n",
    "\n",
    "Eigenvalues are essential in various areas of mathematics and applied sciences. In linear algebra, they provide insight into the behavior of linear transformations represented by matrices. In physics, they are used to solve systems of differential equations and analyze physical phenomena such as vibration modes, stability, and quantum mechanics. In engineering and computer science, eigenvalues are used in various applications, including signal processing, image processing, control systems, and machine learning algorithms like Principal Component Analysis (PCA).\n",
    "\n",
    "\n",
    "\n",
    "\n",
    "\n"
   ]
  },
  {
   "cell_type": "code",
   "execution_count": null,
   "id": "4b176308-1ba4-49c7-ba42-b13758bf1f2f",
   "metadata": {},
   "outputs": [],
   "source": []
  },
  {
   "cell_type": "code",
   "execution_count": null,
   "id": "70003f1e-92d9-492a-9e64-1c6853a574e9",
   "metadata": {},
   "outputs": [],
   "source": []
  },
  {
   "cell_type": "code",
   "execution_count": null,
   "id": "1addb4a3-fd04-4c05-8878-b41b48015cac",
   "metadata": {},
   "outputs": [],
   "source": []
  },
  {
   "cell_type": "markdown",
   "id": "957a3575-4f84-4091-bf62-3f19955911ac",
   "metadata": {},
   "source": [
    "## Question - 6 \n",
    "ans - "
   ]
  },
  {
   "cell_type": "markdown",
   "id": "da23dccf-23aa-4dfa-8cc9-fb186b18dd55",
   "metadata": {},
   "source": [
    "igenvectors are special vectors associated with a square matrix that, when multiplied by the matrix, result in a scaled version of the original vector. In other words, an eigenvector of a matrix A is a nonzero vector v such that the matrix A only changes the magnitude of v, not its direction.\n",
    "\n",
    "Mathematically, an eigenvector v of a square matrix A satisfies the equation:\n",
    "\n",
    "Av=λv\n",
    "where λ is a scalar known as the eigenvalue corresponding to v.\n",
    "\n",
    "In essence, eigenvectors represent the directions along which a linear transformation (represented by the matrix A) acts simply by scaling. The corresponding eigenvalues indicate the scaling factor by which the eigenvector is stretched or compressed.\n",
    "\n",
    "The relationship between eigenvectors and eigenvalues can be summarized as follows:\n",
    "\n",
    "* Eigenvectors are the vectors that remain in the same direction (up to scaling) when multiplied by a matrix.\n",
    "\n",
    "* Eigenvalues are the scalars that represent the amount of stretching or compression applied to the corresponding eigenvectors.\n",
    "\n",
    "Eigenvectors and eigenvalues are essential concepts in linear algebra and have numerous applications in various fields, including physics, engineering, computer science, and data analysis. They provide valuable insights into the properties and behavior of linear transformations represented by matrices, and they play a fundamental role in understanding systems of equations, stability analysis, signal processing, image processing, and dimensionality reduction techniques like Principal Component Analysis (PCA).\n",
    "\n",
    "\n",
    "\n",
    "\n",
    "\n",
    "\n",
    "\n"
   ]
  },
  {
   "cell_type": "code",
   "execution_count": null,
   "id": "873c051d-a77e-47e9-b14f-9ec2390fc703",
   "metadata": {},
   "outputs": [],
   "source": []
  },
  {
   "cell_type": "code",
   "execution_count": null,
   "id": "c591c964-ba2e-4362-b0eb-cef116a5eaf1",
   "metadata": {},
   "outputs": [],
   "source": []
  },
  {
   "cell_type": "code",
   "execution_count": null,
   "id": "d526473c-3d7f-4679-b401-d9e4c7cc5cb8",
   "metadata": {},
   "outputs": [],
   "source": []
  },
  {
   "cell_type": "markdown",
   "id": "5a05fbab-c242-49f5-83c5-bfc95dcd0114",
   "metadata": {},
   "source": [
    "## Question - 7\n",
    "ans - "
   ]
  },
  {
   "cell_type": "markdown",
   "id": "87c1d53b-7b58-4c25-9dce-a398835cdadb",
   "metadata": {},
   "source": [
    "# Eigenvectors:\n",
    "\n",
    "* Geometrically, eigenvectors represent the directions in space that are preserved by a linear transformation.\n",
    "\n",
    "* When a matrix A is applied to an eigenvector v, the resulting vector \n",
    "\n",
    "* Av is parallel to the original eigenvector v, although it may be scaled by a factor λ, which is the corresponding eigenvalue.\n",
    "\n",
    "* In other words, eigenvectors are the directions along which the linear transformation has a simple scaling effect.\n",
    "\n",
    "* For example, if we consider a 2D space and apply a linear transformation represented by a matrix A, the eigenvectors of A would be the lines or axes in the space that are stretched or compressed but remain parallel to their original direction after the transformation.\n",
    "\n",
    "\n",
    "# Eigenvalues:\n",
    "\n",
    "* Geometrically, eigenvalues represent the scale factor by which the corresponding eigenvectors are stretched or compressed during the linear transformation.\n",
    "\n",
    "* A positive eigenvalue indicates stretching along the direction of the eigenvector, while a negative eigenvalue indicates compression.\n",
    "\n",
    "* A zero eigenvalue indicates that the corresponding eigenvector is mapped to the origin (i.e., it becomes a zero vector) during the transformation.\n",
    "\n",
    "* Larger eigenvalues correspond to greater stretching or compression along the corresponding eigenvectors.\n",
    "\n",
    "* For example, if we have a matrix A representing a scaling transformation in 2D space, the eigenvalues of A would represent the scaling factors along the corresponding eigenvectors."
   ]
  },
  {
   "cell_type": "code",
   "execution_count": null,
   "id": "3838deb6-0781-43c8-9d7b-847571db0af7",
   "metadata": {},
   "outputs": [],
   "source": []
  },
  {
   "cell_type": "code",
   "execution_count": null,
   "id": "e3dd60dd-088d-4857-a052-60c28ab313a6",
   "metadata": {},
   "outputs": [],
   "source": []
  },
  {
   "cell_type": "code",
   "execution_count": null,
   "id": "6aa98af0-5dc2-4009-91ee-4b219434bca8",
   "metadata": {},
   "outputs": [],
   "source": []
  },
  {
   "cell_type": "markdown",
   "id": "4b0854b5-51d3-46b5-bad3-8e5d62572290",
   "metadata": {},
   "source": [
    "# Question - 8\n",
    "ans - "
   ]
  },
  {
   "cell_type": "markdown",
   "id": "231417c3-ba61-42bb-b348-a88f1b34eed3",
   "metadata": {},
   "source": [
    "# 1 Principal Component Analysis (PCA):\n",
    "\n",
    "PCA is a dimensionality reduction technique that utilizes eigen decomposition to identify the principal components of a dataset.\n",
    "It is widely used in data analysis, pattern recognition, and machine learning for feature extraction, data visualization, and noise reduction.\n",
    "\n",
    "\n",
    "# 2 Image Compression and Denoising:\n",
    "\n",
    "Eigen decomposition can be used to compress images by representing them in terms of their principal components.\n",
    "It is also used in image denoising algorithms to separate signal from noise by filtering out components with low eigenvalues.\n",
    "\n",
    "# 3 Modal Analysis in Structural Engineering:\n",
    "\n",
    "Eigen decomposition is used in modal analysis to determine the natural frequencies and mode shapes of structures.\n",
    "It helps engineers understand the dynamic behavior of structures and design them to withstand external forces and vibrations.\n",
    "\n",
    "\n",
    "# 4 Quantum Mechanics:\n",
    "\n",
    "In quantum mechanics, eigen decomposition is used to solve the Schrödinger equation and find the energy levels and wavefunctions of quantum systems.\n",
    "It plays a crucial role in understanding the behavior of particles and predicting their interactions.\n",
    "\n",
    "\n",
    "# 5 Signal Processing:\n",
    "\n",
    "Eigen decomposition is used in signal processing applications such as speech recognition, audio processing, and telecommunications.\n",
    "It helps extract relevant features from signals, analyze their frequency content, and filter out noise.\n",
    "\n",
    "\n",
    "# 6 Chemical Kinetics:\n",
    "\n",
    "Eigen decomposition is used in chemical kinetics to analyze reaction mechanisms and determine rate constants.\n",
    "It helps chemists understand the kinetics of chemical reactions and optimize reaction conditions.\n",
    "\n",
    "\n",
    "# 7 Recommendation Systems:\n",
    "\n",
    "Eigen decomposition is used in collaborative filtering algorithms for recommendation systems.\n",
    "It helps identify latent factors and similarities between users and items to make personalized recommendations.\n",
    "\n",
    "\n",
    "# 8 Network Analysis:\n",
    "\n",
    "Eigen decomposition is used in network analysis to identify important nodes and community structures in complex networks.\n",
    "It helps analyze the connectivity and dynamics of networks such as social networks, transportation networks, and biological networks."
   ]
  },
  {
   "cell_type": "code",
   "execution_count": null,
   "id": "936fb37a-84ba-4710-9920-36f6165cea86",
   "metadata": {},
   "outputs": [],
   "source": []
  },
  {
   "cell_type": "code",
   "execution_count": null,
   "id": "f18a7735-4796-437f-bb0f-cc8b6c7da1a0",
   "metadata": {},
   "outputs": [],
   "source": []
  },
  {
   "cell_type": "code",
   "execution_count": null,
   "id": "d8de14f4-2b61-47cb-998f-c2b055a7dced",
   "metadata": {},
   "outputs": [],
   "source": []
  },
  {
   "cell_type": "markdown",
   "id": "bffff8f7-1831-4c03-8118-20e1ed4bb5a6",
   "metadata": {},
   "source": [
    "# Question - 9\n",
    "ans - "
   ]
  },
  {
   "cell_type": "markdown",
   "id": "4fc7945d-b865-4a9b-b609-d71b399df931",
   "metadata": {},
   "source": [
    "Yes, it's possible for a matrix to have more than one set of eigenvectors and eigenvalues. However, these sets may not be completely independent of each other.\n",
    "\n",
    "While it's possible for a matrix to have more than one set of eigenvectors and eigenvalues, the nature of these sets depends on the properties of the matrix, such as its size, rank, and eigenvalue multiplicities. Each set of eigenvectors and eigenvalues provides valuable information about the matrix and its underlying linear transformation."
   ]
  },
  {
   "cell_type": "code",
   "execution_count": null,
   "id": "1cff1881-2efc-4487-ac4a-5dcad5ca2903",
   "metadata": {},
   "outputs": [],
   "source": []
  },
  {
   "cell_type": "code",
   "execution_count": null,
   "id": "2b685418-7385-43e4-a97c-f6c8db944e90",
   "metadata": {},
   "outputs": [],
   "source": []
  },
  {
   "cell_type": "code",
   "execution_count": null,
   "id": "664a4736-25b0-4780-b74c-5132f8ea9926",
   "metadata": {},
   "outputs": [],
   "source": []
  },
  {
   "cell_type": "markdown",
   "id": "3784171d-7d0e-4957-a6f6-c41f06ddecaf",
   "metadata": {},
   "source": [
    "# Question - 10 \n",
    "ans - "
   ]
  },
  {
   "cell_type": "markdown",
   "id": "c2edf0a9-63b9-4055-8d70-a00e408972a8",
   "metadata": {},
   "source": [
    "Eigen-decomposition is a powerful technique in data analysis and machine learning, offering several applications that leverage its capabilities for dimensionality reduction, feature extraction, and pattern recognition.\n",
    "\n",
    "\n",
    "\n",
    "\n",
    "\n",
    "# Principal Component Analysis (PCA):\n",
    "\n",
    "* PCA is a widely used technique for dimensionality reduction that relies on eigen-decomposition.\n",
    "\n",
    "* In PCA, eigen-decomposition is used to compute the principal components of a dataset, which are orthogonal vectors that capture the directions of maximum variance in the data.\n",
    "\n",
    "* By retaining only the principal components with the highest eigenvalues, PCA reduces the dimensionality of the dataset while preserving as much of the variance as possible.\n",
    "\n",
    "* PCA is useful for exploratory data analysis, visualization, and feature extraction in various domains, including image processing, signal processing, and bioinformatics.\n",
    "\n",
    "# Eigenfaces in Facial Recognition:\n",
    "\n",
    "* Eigenfaces is a technique used in facial recognition systems that relies on eigen-decomposition to represent faces as linear combinations of basis images.\n",
    "\n",
    "* In eigenfaces, a set of face images is decomposed into a basis set of eigenfaces using eigen-decomposition.\n",
    "\n",
    "* Each face image in the dataset can then be represented as a weighted sum of the eigenfaces, where the weights correspond to the coefficients obtained from eigen-decomposition.\n",
    "\n",
    "* Eigenfaces are useful for facial recognition tasks, such as face detection, identification, and verification, and have applications in security, surveillance, and biometrics.\n",
    "\n",
    "# Spectral Clustering:\n",
    "\n",
    "* Spectral clustering is a clustering technique that utilizes eigen-decomposition to partition data into clusters based on the similarity of data points in a high-dimensional space.\n",
    "\n",
    "* In spectral clustering, a similarity or affinity matrix is constructed to capture the pairwise relationships between data points.\n",
    "\n",
    "* Eigen-decomposition is then applied to the affinity matrix to compute the eigenvectors corresponding to the smallest eigenvalues.\n",
    "\n",
    "* The eigenvectors are used to embed the data into a lower-dimensional space, where traditional clustering algorithms, such as k-means, can be applied to partition the data into clusters.\n",
    "\n",
    "* Spectral clustering is useful for community detection, image segmentation, and clustering data with complex structures or non-linear relationships."
   ]
  },
  {
   "cell_type": "code",
   "execution_count": null,
   "id": "f57938e7-3213-4218-9aa6-872a3bdc2a53",
   "metadata": {},
   "outputs": [],
   "source": []
  },
  {
   "cell_type": "code",
   "execution_count": null,
   "id": "4d965411-1b67-41f3-b093-32f577dc4512",
   "metadata": {},
   "outputs": [],
   "source": []
  },
  {
   "cell_type": "code",
   "execution_count": null,
   "id": "6dec444c-1860-4155-8c81-bbff15925ce4",
   "metadata": {},
   "outputs": [],
   "source": []
  }
 ],
 "metadata": {
  "kernelspec": {
   "display_name": "Python 3 (ipykernel)",
   "language": "python",
   "name": "python3"
  },
  "language_info": {
   "codemirror_mode": {
    "name": "ipython",
    "version": 3
   },
   "file_extension": ".py",
   "mimetype": "text/x-python",
   "name": "python",
   "nbconvert_exporter": "python",
   "pygments_lexer": "ipython3",
   "version": "3.10.8"
  }
 },
 "nbformat": 4,
 "nbformat_minor": 5
}
